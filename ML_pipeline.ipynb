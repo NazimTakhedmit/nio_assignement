{
  "cells": [
    {
      "cell_type": "markdown",
      "id": "4d8679a1",
      "metadata": {
        "id": "4d8679a1"
      },
      "source": [
        "# ML pipeline\n",
        "\n",
        "##### this notebook puts together the different parts of the pipeline covered by the external files \n",
        " the pipeline runs as follows: \n",
        " - Data loading\n",
        " - Features engineering \n",
        " - Train and validation \n",
        " - Testing \n",
        " - Plotting the results \n",
        " \n"
      ]
    },
    {
      "cell_type": "code",
      "source": [
        "!git clone https://github.com/NazimTakhedmit/nio_assignement.git"
      ],
      "metadata": {
        "colab": {
          "base_uri": "https://localhost:8080/"
        },
        "id": "Gz-PEUHcfRRn",
        "outputId": "3b4be4a6-56b0-459b-9e82-b898424d52f9"
      },
      "id": "Gz-PEUHcfRRn",
      "execution_count": 1,
      "outputs": [
        {
          "output_type": "stream",
          "name": "stdout",
          "text": [
            "Cloning into 'nio_assignement'...\n",
            "remote: Enumerating objects: 28, done.\u001b[K\n",
            "remote: Counting objects: 100% (28/28), done.\u001b[K\n",
            "remote: Compressing objects: 100% (22/22), done.\u001b[K\n",
            "remote: Total 28 (delta 7), reused 0 (delta 0), pack-reused 0\u001b[K\n",
            "Unpacking objects: 100% (28/28), done.\n"
          ]
        }
      ]
    },
    {
      "cell_type": "code",
      "source": [
        "cd nio_assignement/"
      ],
      "metadata": {
        "colab": {
          "base_uri": "https://localhost:8080/"
        },
        "id": "h9wrEli7fgqe",
        "outputId": "5556a20a-c09b-4d7f-fdc4-608b95dde7e5"
      },
      "id": "h9wrEli7fgqe",
      "execution_count": 2,
      "outputs": [
        {
          "output_type": "stream",
          "name": "stdout",
          "text": [
            "/content/nio_assignement\n"
          ]
        }
      ]
    },
    {
      "cell_type": "markdown",
      "id": "a7569efa",
      "metadata": {
        "id": "a7569efa"
      },
      "source": [
        "### Data loading "
      ]
    },
    {
      "cell_type": "markdown",
      "source": [
        "download the 911 calls file"
      ],
      "metadata": {
        "id": "QGFgJ_9vgaVn"
      },
      "id": "QGFgJ_9vgaVn"
    },
    {
      "cell_type": "code",
      "source": [
        "!wget https://data.seattle.gov/api/views/kzjm-xkqj/rows.csv?accessType=DOWNLOAD"
      ],
      "metadata": {
        "colab": {
          "base_uri": "https://localhost:8080/"
        },
        "id": "ZhOq2m9ThLsz",
        "outputId": "9ea5b7c2-b1dc-4ff1-9419-824599d473b8"
      },
      "id": "ZhOq2m9ThLsz",
      "execution_count": 3,
      "outputs": [
        {
          "output_type": "stream",
          "name": "stdout",
          "text": [
            "--2022-03-22 12:18:03--  https://data.seattle.gov/api/views/kzjm-xkqj/rows.csv?accessType=DOWNLOAD\n",
            "Resolving data.seattle.gov (data.seattle.gov)... 52.206.68.26, 52.206.140.199, 52.206.140.205\n",
            "Connecting to data.seattle.gov (data.seattle.gov)|52.206.68.26|:443... connected.\n",
            "HTTP request sent, awaiting response... 200 OK\n",
            "Length: unspecified [text/csv]\n",
            "Saving to: ‘rows.csv?accessType=DOWNLOAD’\n",
            "\n",
            "rows.csv?accessType     [                 <=>] 187.17M  1.64MB/s    in 2m 10s  \n",
            "\n",
            "2022-03-22 12:20:14 (1.45 MB/s) - ‘rows.csv?accessType=DOWNLOAD’ saved [196258862]\n",
            "\n"
          ]
        }
      ]
    },
    {
      "cell_type": "code",
      "source": [
        "# raw data name\n",
        "raw_data_name = 'Seattle_Real_Time_Fire_911_Calls.csv'"
      ],
      "metadata": {
        "id": "Q-nEY6KWjZLX"
      },
      "id": "Q-nEY6KWjZLX",
      "execution_count": 4,
      "outputs": []
    },
    {
      "cell_type": "code",
      "source": [
        "#rename the file\n",
        "import os \n",
        "os.rename('rows.csv?accessType=DOWNLOAD', 'Seattle_Real_Time_Fire_911_Calls.csv')"
      ],
      "metadata": {
        "id": "gZzMXghrivmf"
      },
      "id": "gZzMXghrivmf",
      "execution_count": 5,
      "outputs": []
    },
    {
      "cell_type": "markdown",
      "id": "31dbc922",
      "metadata": {
        "id": "31dbc922"
      },
      "source": [
        "### Features engineering"
      ]
    },
    {
      "cell_type": "code",
      "execution_count": 6,
      "id": "77996fe8",
      "metadata": {
        "colab": {
          "base_uri": "https://localhost:8080/"
        },
        "id": "77996fe8",
        "outputId": "fdfee461-d02b-447d-d0d6-af55cffda9f7"
      },
      "outputs": [
        {
          "output_type": "stream",
          "name": "stdout",
          "text": [
            "date column split  ----Done\n",
            "adding season column ----Done\n",
            "adding the number of calls per day column ----Done\n",
            "adding the number of calls per hour column ----Done\n",
            "saving clean data ----Done\n"
          ]
        }
      ],
      "source": [
        "!python features_engineering.py {raw_data_name}"
      ]
    },
    {
      "cell_type": "markdown",
      "id": "ecf9dc61",
      "metadata": {
        "id": "ecf9dc61"
      },
      "source": [
        "### Train and validation "
      ]
    },
    {
      "cell_type": "code",
      "source": [
        "!pip3 install tensorflow_decision_forests"
      ],
      "metadata": {
        "id": "bwtaFkCbf2PH",
        "colab": {
          "base_uri": "https://localhost:8080/"
        },
        "outputId": "c79c4eeb-680e-4b82-dcb7-70737a9d3730"
      },
      "id": "bwtaFkCbf2PH",
      "execution_count": 7,
      "outputs": [
        {
          "output_type": "stream",
          "name": "stdout",
          "text": [
            "Collecting tensorflow_decision_forests\n",
            "  Downloading tensorflow_decision_forests-0.2.4-cp37-cp37m-manylinux_2_12_x86_64.manylinux2010_x86_64.whl (13.4 MB)\n",
            "\u001b[K     |████████████████████████████████| 13.4 MB 3.8 MB/s \n",
            "\u001b[?25hRequirement already satisfied: pandas in /usr/local/lib/python3.7/dist-packages (from tensorflow_decision_forests) (1.3.5)\n",
            "Requirement already satisfied: wheel in /usr/local/lib/python3.7/dist-packages (from tensorflow_decision_forests) (0.37.1)\n",
            "Requirement already satisfied: absl-py in /usr/local/lib/python3.7/dist-packages (from tensorflow_decision_forests) (1.0.0)\n",
            "Requirement already satisfied: six in /usr/local/lib/python3.7/dist-packages (from tensorflow_decision_forests) (1.15.0)\n",
            "Requirement already satisfied: numpy in /usr/local/lib/python3.7/dist-packages (from tensorflow_decision_forests) (1.21.5)\n",
            "Requirement already satisfied: tensorflow~=2.8.0 in /usr/local/lib/python3.7/dist-packages (from tensorflow_decision_forests) (2.8.0)\n",
            "Collecting wurlitzer\n",
            "  Downloading wurlitzer-3.0.2-py3-none-any.whl (7.3 kB)\n",
            "Requirement already satisfied: tensorflow-io-gcs-filesystem>=0.23.1 in /usr/local/lib/python3.7/dist-packages (from tensorflow~=2.8.0->tensorflow_decision_forests) (0.24.0)\n",
            "Requirement already satisfied: protobuf>=3.9.2 in /usr/local/lib/python3.7/dist-packages (from tensorflow~=2.8.0->tensorflow_decision_forests) (3.17.3)\n",
            "Requirement already satisfied: flatbuffers>=1.12 in /usr/local/lib/python3.7/dist-packages (from tensorflow~=2.8.0->tensorflow_decision_forests) (2.0)\n",
            "Requirement already satisfied: setuptools in /usr/local/lib/python3.7/dist-packages (from tensorflow~=2.8.0->tensorflow_decision_forests) (57.4.0)\n",
            "Requirement already satisfied: keras-preprocessing>=1.1.1 in /usr/local/lib/python3.7/dist-packages (from tensorflow~=2.8.0->tensorflow_decision_forests) (1.1.2)\n",
            "Requirement already satisfied: grpcio<2.0,>=1.24.3 in /usr/local/lib/python3.7/dist-packages (from tensorflow~=2.8.0->tensorflow_decision_forests) (1.44.0)\n",
            "Requirement already satisfied: typing-extensions>=3.6.6 in /usr/local/lib/python3.7/dist-packages (from tensorflow~=2.8.0->tensorflow_decision_forests) (3.10.0.2)\n",
            "Requirement already satisfied: libclang>=9.0.1 in /usr/local/lib/python3.7/dist-packages (from tensorflow~=2.8.0->tensorflow_decision_forests) (13.0.0)\n",
            "Requirement already satisfied: opt-einsum>=2.3.2 in /usr/local/lib/python3.7/dist-packages (from tensorflow~=2.8.0->tensorflow_decision_forests) (3.3.0)\n",
            "Requirement already satisfied: wrapt>=1.11.0 in /usr/local/lib/python3.7/dist-packages (from tensorflow~=2.8.0->tensorflow_decision_forests) (1.13.3)\n",
            "Requirement already satisfied: termcolor>=1.1.0 in /usr/local/lib/python3.7/dist-packages (from tensorflow~=2.8.0->tensorflow_decision_forests) (1.1.0)\n",
            "Requirement already satisfied: h5py>=2.9.0 in /usr/local/lib/python3.7/dist-packages (from tensorflow~=2.8.0->tensorflow_decision_forests) (3.1.0)\n",
            "Collecting tf-estimator-nightly==2.8.0.dev2021122109\n",
            "  Downloading tf_estimator_nightly-2.8.0.dev2021122109-py2.py3-none-any.whl (462 kB)\n",
            "\u001b[K     |████████████████████████████████| 462 kB 61.8 MB/s \n",
            "\u001b[?25hRequirement already satisfied: tensorboard<2.9,>=2.8 in /usr/local/lib/python3.7/dist-packages (from tensorflow~=2.8.0->tensorflow_decision_forests) (2.8.0)\n",
            "Requirement already satisfied: keras<2.9,>=2.8.0rc0 in /usr/local/lib/python3.7/dist-packages (from tensorflow~=2.8.0->tensorflow_decision_forests) (2.8.0)\n",
            "Requirement already satisfied: google-pasta>=0.1.1 in /usr/local/lib/python3.7/dist-packages (from tensorflow~=2.8.0->tensorflow_decision_forests) (0.2.0)\n",
            "Requirement already satisfied: gast>=0.2.1 in /usr/local/lib/python3.7/dist-packages (from tensorflow~=2.8.0->tensorflow_decision_forests) (0.5.3)\n",
            "Requirement already satisfied: astunparse>=1.6.0 in /usr/local/lib/python3.7/dist-packages (from tensorflow~=2.8.0->tensorflow_decision_forests) (1.6.3)\n",
            "Requirement already satisfied: cached-property in /usr/local/lib/python3.7/dist-packages (from h5py>=2.9.0->tensorflow~=2.8.0->tensorflow_decision_forests) (1.5.2)\n",
            "Requirement already satisfied: werkzeug>=0.11.15 in /usr/local/lib/python3.7/dist-packages (from tensorboard<2.9,>=2.8->tensorflow~=2.8.0->tensorflow_decision_forests) (1.0.1)\n",
            "Requirement already satisfied: google-auth<3,>=1.6.3 in /usr/local/lib/python3.7/dist-packages (from tensorboard<2.9,>=2.8->tensorflow~=2.8.0->tensorflow_decision_forests) (1.35.0)\n",
            "Requirement already satisfied: tensorboard-plugin-wit>=1.6.0 in /usr/local/lib/python3.7/dist-packages (from tensorboard<2.9,>=2.8->tensorflow~=2.8.0->tensorflow_decision_forests) (1.8.1)\n",
            "Requirement already satisfied: requests<3,>=2.21.0 in /usr/local/lib/python3.7/dist-packages (from tensorboard<2.9,>=2.8->tensorflow~=2.8.0->tensorflow_decision_forests) (2.23.0)\n",
            "Requirement already satisfied: markdown>=2.6.8 in /usr/local/lib/python3.7/dist-packages (from tensorboard<2.9,>=2.8->tensorflow~=2.8.0->tensorflow_decision_forests) (3.3.6)\n",
            "Requirement already satisfied: google-auth-oauthlib<0.5,>=0.4.1 in /usr/local/lib/python3.7/dist-packages (from tensorboard<2.9,>=2.8->tensorflow~=2.8.0->tensorflow_decision_forests) (0.4.6)\n",
            "Requirement already satisfied: tensorboard-data-server<0.7.0,>=0.6.0 in /usr/local/lib/python3.7/dist-packages (from tensorboard<2.9,>=2.8->tensorflow~=2.8.0->tensorflow_decision_forests) (0.6.1)\n",
            "Requirement already satisfied: pyasn1-modules>=0.2.1 in /usr/local/lib/python3.7/dist-packages (from google-auth<3,>=1.6.3->tensorboard<2.9,>=2.8->tensorflow~=2.8.0->tensorflow_decision_forests) (0.2.8)\n",
            "Requirement already satisfied: rsa<5,>=3.1.4 in /usr/local/lib/python3.7/dist-packages (from google-auth<3,>=1.6.3->tensorboard<2.9,>=2.8->tensorflow~=2.8.0->tensorflow_decision_forests) (4.8)\n",
            "Requirement already satisfied: cachetools<5.0,>=2.0.0 in /usr/local/lib/python3.7/dist-packages (from google-auth<3,>=1.6.3->tensorboard<2.9,>=2.8->tensorflow~=2.8.0->tensorflow_decision_forests) (4.2.4)\n",
            "Requirement already satisfied: requests-oauthlib>=0.7.0 in /usr/local/lib/python3.7/dist-packages (from google-auth-oauthlib<0.5,>=0.4.1->tensorboard<2.9,>=2.8->tensorflow~=2.8.0->tensorflow_decision_forests) (1.3.1)\n",
            "Requirement already satisfied: importlib-metadata>=4.4 in /usr/local/lib/python3.7/dist-packages (from markdown>=2.6.8->tensorboard<2.9,>=2.8->tensorflow~=2.8.0->tensorflow_decision_forests) (4.11.2)\n",
            "Requirement already satisfied: zipp>=0.5 in /usr/local/lib/python3.7/dist-packages (from importlib-metadata>=4.4->markdown>=2.6.8->tensorboard<2.9,>=2.8->tensorflow~=2.8.0->tensorflow_decision_forests) (3.7.0)\n",
            "Requirement already satisfied: pyasn1<0.5.0,>=0.4.6 in /usr/local/lib/python3.7/dist-packages (from pyasn1-modules>=0.2.1->google-auth<3,>=1.6.3->tensorboard<2.9,>=2.8->tensorflow~=2.8.0->tensorflow_decision_forests) (0.4.8)\n",
            "Requirement already satisfied: chardet<4,>=3.0.2 in /usr/local/lib/python3.7/dist-packages (from requests<3,>=2.21.0->tensorboard<2.9,>=2.8->tensorflow~=2.8.0->tensorflow_decision_forests) (3.0.4)\n",
            "Requirement already satisfied: urllib3!=1.25.0,!=1.25.1,<1.26,>=1.21.1 in /usr/local/lib/python3.7/dist-packages (from requests<3,>=2.21.0->tensorboard<2.9,>=2.8->tensorflow~=2.8.0->tensorflow_decision_forests) (1.24.3)\n",
            "Requirement already satisfied: certifi>=2017.4.17 in /usr/local/lib/python3.7/dist-packages (from requests<3,>=2.21.0->tensorboard<2.9,>=2.8->tensorflow~=2.8.0->tensorflow_decision_forests) (2021.10.8)\n",
            "Requirement already satisfied: idna<3,>=2.5 in /usr/local/lib/python3.7/dist-packages (from requests<3,>=2.21.0->tensorboard<2.9,>=2.8->tensorflow~=2.8.0->tensorflow_decision_forests) (2.10)\n",
            "Requirement already satisfied: oauthlib>=3.0.0 in /usr/local/lib/python3.7/dist-packages (from requests-oauthlib>=0.7.0->google-auth-oauthlib<0.5,>=0.4.1->tensorboard<2.9,>=2.8->tensorflow~=2.8.0->tensorflow_decision_forests) (3.2.0)\n",
            "Requirement already satisfied: python-dateutil>=2.7.3 in /usr/local/lib/python3.7/dist-packages (from pandas->tensorflow_decision_forests) (2.8.2)\n",
            "Requirement already satisfied: pytz>=2017.3 in /usr/local/lib/python3.7/dist-packages (from pandas->tensorflow_decision_forests) (2018.9)\n",
            "Installing collected packages: tf-estimator-nightly, wurlitzer, tensorflow-decision-forests\n",
            "Successfully installed tensorflow-decision-forests-0.2.4 tf-estimator-nightly-2.8.0.dev2021122109 wurlitzer-3.0.2\n"
          ]
        }
      ]
    },
    {
      "cell_type": "code",
      "execution_count": 8,
      "id": "0e018799",
      "metadata": {
        "colab": {
          "base_uri": "https://localhost:8080/"
        },
        "id": "0e018799",
        "outputId": "42b76480-9dae-44d3-f610-3670b0e64cb0"
      },
      "outputs": [
        {
          "output_type": "stream",
          "name": "stderr",
          "text": [
            "WARNING:root:TF Parameter Server distributed training not available (this is expected for the pre-build release).\n"
          ]
        }
      ],
      "source": [
        "import tensorflow_decision_forests as tfdf\n",
        "import pandas as pd\n",
        "import shutil \n",
        "import numpy as np\n",
        "import pickle"
      ]
    },
    {
      "cell_type": "code",
      "execution_count": 9,
      "id": "d34ae4aa",
      "metadata": {
        "id": "d34ae4aa",
        "colab": {
          "base_uri": "https://localhost:8080/"
        },
        "outputId": "887ed949-a500-45a7-fe07-11d2fff9bf2a"
      },
      "outputs": [
        {
          "output_type": "execute_result",
          "data": {
            "text/plain": [
              "Index(['hour', 'day', 'month', 'year', 'date', 'season', 'calls_per_day',\n",
              "       'calls_per_hour'],\n",
              "      dtype='object')"
            ]
          },
          "metadata": {},
          "execution_count": 9
        }
      ],
      "source": [
        "#read data\n",
        "dataset_full = pd.read_csv(\"clean_data.csv\")\n",
        "dataset_full.columns"
      ]
    },
    {
      "cell_type": "code",
      "execution_count": 10,
      "id": "8a4285eb",
      "metadata": {
        "id": "8a4285eb"
      },
      "outputs": [],
      "source": [
        "#select the relevant columns for forecast\n",
        "cols = ['hour', 'day', 'month', 'year', 'season', 'calls_per_hour']\n",
        "\n",
        "dataset = dataset_full[cols]"
      ]
    },
    {
      "cell_type": "code",
      "execution_count": 11,
      "id": "73ac77ed",
      "metadata": {
        "id": "73ac77ed",
        "colab": {
          "base_uri": "https://localhost:8080/",
          "height": 174
        },
        "outputId": "b7fd8273-8a42-4850-d74b-7ccbaa03ab07"
      },
      "outputs": [
        {
          "output_type": "execute_result",
          "data": {
            "text/plain": [
              "   index  hour  day  month  year  season  calls_per_hour\n",
              "0      0    12   22      5  2019  Spring              15\n",
              "1      1    12   22      5  2019  Spring              15\n",
              "2      2    12   22      5  2019  Spring              15\n",
              "3      3     7    1      7  2019  Summer              13"
            ],
            "text/html": [
              "\n",
              "  <div id=\"df-db8f1173-5f84-432a-9268-df4301c388d3\">\n",
              "    <div class=\"colab-df-container\">\n",
              "      <div>\n",
              "<style scoped>\n",
              "    .dataframe tbody tr th:only-of-type {\n",
              "        vertical-align: middle;\n",
              "    }\n",
              "\n",
              "    .dataframe tbody tr th {\n",
              "        vertical-align: top;\n",
              "    }\n",
              "\n",
              "    .dataframe thead th {\n",
              "        text-align: right;\n",
              "    }\n",
              "</style>\n",
              "<table border=\"1\" class=\"dataframe\">\n",
              "  <thead>\n",
              "    <tr style=\"text-align: right;\">\n",
              "      <th></th>\n",
              "      <th>index</th>\n",
              "      <th>hour</th>\n",
              "      <th>day</th>\n",
              "      <th>month</th>\n",
              "      <th>year</th>\n",
              "      <th>season</th>\n",
              "      <th>calls_per_hour</th>\n",
              "    </tr>\n",
              "  </thead>\n",
              "  <tbody>\n",
              "    <tr>\n",
              "      <th>0</th>\n",
              "      <td>0</td>\n",
              "      <td>12</td>\n",
              "      <td>22</td>\n",
              "      <td>5</td>\n",
              "      <td>2019</td>\n",
              "      <td>Spring</td>\n",
              "      <td>15</td>\n",
              "    </tr>\n",
              "    <tr>\n",
              "      <th>1</th>\n",
              "      <td>1</td>\n",
              "      <td>12</td>\n",
              "      <td>22</td>\n",
              "      <td>5</td>\n",
              "      <td>2019</td>\n",
              "      <td>Spring</td>\n",
              "      <td>15</td>\n",
              "    </tr>\n",
              "    <tr>\n",
              "      <th>2</th>\n",
              "      <td>2</td>\n",
              "      <td>12</td>\n",
              "      <td>22</td>\n",
              "      <td>5</td>\n",
              "      <td>2019</td>\n",
              "      <td>Spring</td>\n",
              "      <td>15</td>\n",
              "    </tr>\n",
              "    <tr>\n",
              "      <th>3</th>\n",
              "      <td>3</td>\n",
              "      <td>7</td>\n",
              "      <td>1</td>\n",
              "      <td>7</td>\n",
              "      <td>2019</td>\n",
              "      <td>Summer</td>\n",
              "      <td>13</td>\n",
              "    </tr>\n",
              "  </tbody>\n",
              "</table>\n",
              "</div>\n",
              "      <button class=\"colab-df-convert\" onclick=\"convertToInteractive('df-db8f1173-5f84-432a-9268-df4301c388d3')\"\n",
              "              title=\"Convert this dataframe to an interactive table.\"\n",
              "              style=\"display:none;\">\n",
              "        \n",
              "  <svg xmlns=\"http://www.w3.org/2000/svg\" height=\"24px\"viewBox=\"0 0 24 24\"\n",
              "       width=\"24px\">\n",
              "    <path d=\"M0 0h24v24H0V0z\" fill=\"none\"/>\n",
              "    <path d=\"M18.56 5.44l.94 2.06.94-2.06 2.06-.94-2.06-.94-.94-2.06-.94 2.06-2.06.94zm-11 1L8.5 8.5l.94-2.06 2.06-.94-2.06-.94L8.5 2.5l-.94 2.06-2.06.94zm10 10l.94 2.06.94-2.06 2.06-.94-2.06-.94-.94-2.06-.94 2.06-2.06.94z\"/><path d=\"M17.41 7.96l-1.37-1.37c-.4-.4-.92-.59-1.43-.59-.52 0-1.04.2-1.43.59L10.3 9.45l-7.72 7.72c-.78.78-.78 2.05 0 2.83L4 21.41c.39.39.9.59 1.41.59.51 0 1.02-.2 1.41-.59l7.78-7.78 2.81-2.81c.8-.78.8-2.07 0-2.86zM5.41 20L4 18.59l7.72-7.72 1.47 1.35L5.41 20z\"/>\n",
              "  </svg>\n",
              "      </button>\n",
              "      \n",
              "  <style>\n",
              "    .colab-df-container {\n",
              "      display:flex;\n",
              "      flex-wrap:wrap;\n",
              "      gap: 12px;\n",
              "    }\n",
              "\n",
              "    .colab-df-convert {\n",
              "      background-color: #E8F0FE;\n",
              "      border: none;\n",
              "      border-radius: 50%;\n",
              "      cursor: pointer;\n",
              "      display: none;\n",
              "      fill: #1967D2;\n",
              "      height: 32px;\n",
              "      padding: 0 0 0 0;\n",
              "      width: 32px;\n",
              "    }\n",
              "\n",
              "    .colab-df-convert:hover {\n",
              "      background-color: #E2EBFA;\n",
              "      box-shadow: 0px 1px 2px rgba(60, 64, 67, 0.3), 0px 1px 3px 1px rgba(60, 64, 67, 0.15);\n",
              "      fill: #174EA6;\n",
              "    }\n",
              "\n",
              "    [theme=dark] .colab-df-convert {\n",
              "      background-color: #3B4455;\n",
              "      fill: #D2E3FC;\n",
              "    }\n",
              "\n",
              "    [theme=dark] .colab-df-convert:hover {\n",
              "      background-color: #434B5C;\n",
              "      box-shadow: 0px 1px 3px 1px rgba(0, 0, 0, 0.15);\n",
              "      filter: drop-shadow(0px 1px 2px rgba(0, 0, 0, 0.3));\n",
              "      fill: #FFFFFF;\n",
              "    }\n",
              "  </style>\n",
              "\n",
              "      <script>\n",
              "        const buttonEl =\n",
              "          document.querySelector('#df-db8f1173-5f84-432a-9268-df4301c388d3 button.colab-df-convert');\n",
              "        buttonEl.style.display =\n",
              "          google.colab.kernel.accessAllowed ? 'block' : 'none';\n",
              "\n",
              "        async function convertToInteractive(key) {\n",
              "          const element = document.querySelector('#df-db8f1173-5f84-432a-9268-df4301c388d3');\n",
              "          const dataTable =\n",
              "            await google.colab.kernel.invokeFunction('convertToInteractive',\n",
              "                                                     [key], {});\n",
              "          if (!dataTable) return;\n",
              "\n",
              "          const docLinkHtml = 'Like what you see? Visit the ' +\n",
              "            '<a target=\"_blank\" href=https://colab.research.google.com/notebooks/data_table.ipynb>data table notebook</a>'\n",
              "            + ' to learn more about interactive tables.';\n",
              "          element.innerHTML = '';\n",
              "          dataTable['output_type'] = 'display_data';\n",
              "          await google.colab.output.renderOutput(dataTable, element);\n",
              "          const docLink = document.createElement('div');\n",
              "          docLink.innerHTML = docLinkHtml;\n",
              "          element.appendChild(docLink);\n",
              "        }\n",
              "      </script>\n",
              "    </div>\n",
              "  </div>\n",
              "  "
            ]
          },
          "metadata": {},
          "execution_count": 11
        }
      ],
      "source": [
        "#select training data as data of the five years before 2022\n",
        "train_data = dataset[dataset.year.isin([2017, 2018, 2019, 2020, 2021])].reset_index()\n",
        "train_data.head(4)\n",
        "#test_data = dataset."
      ]
    },
    {
      "cell_type": "code",
      "execution_count": 12,
      "id": "84b384fe",
      "metadata": {
        "id": "84b384fe",
        "colab": {
          "base_uri": "https://localhost:8080/",
          "height": 174
        },
        "outputId": "9f025b53-1e0c-4b2e-87ab-24facc7631f2"
      },
      "outputs": [
        {
          "output_type": "execute_result",
          "data": {
            "text/plain": [
              "     index  hour  day  month  year  season  calls_per_hour\n",
              "0   640288     1    1      1  2022  Winter              20\n",
              "1   672423     1    1      1  2022  Winter              20\n",
              "2   973559    11   22      1  2022  Winter              11\n",
              "3  1522286     1    1      1  2022  Winter              20"
            ],
            "text/html": [
              "\n",
              "  <div id=\"df-c1309736-16aa-41fa-9aa6-9ab46129eb4c\">\n",
              "    <div class=\"colab-df-container\">\n",
              "      <div>\n",
              "<style scoped>\n",
              "    .dataframe tbody tr th:only-of-type {\n",
              "        vertical-align: middle;\n",
              "    }\n",
              "\n",
              "    .dataframe tbody tr th {\n",
              "        vertical-align: top;\n",
              "    }\n",
              "\n",
              "    .dataframe thead th {\n",
              "        text-align: right;\n",
              "    }\n",
              "</style>\n",
              "<table border=\"1\" class=\"dataframe\">\n",
              "  <thead>\n",
              "    <tr style=\"text-align: right;\">\n",
              "      <th></th>\n",
              "      <th>index</th>\n",
              "      <th>hour</th>\n",
              "      <th>day</th>\n",
              "      <th>month</th>\n",
              "      <th>year</th>\n",
              "      <th>season</th>\n",
              "      <th>calls_per_hour</th>\n",
              "    </tr>\n",
              "  </thead>\n",
              "  <tbody>\n",
              "    <tr>\n",
              "      <th>0</th>\n",
              "      <td>640288</td>\n",
              "      <td>1</td>\n",
              "      <td>1</td>\n",
              "      <td>1</td>\n",
              "      <td>2022</td>\n",
              "      <td>Winter</td>\n",
              "      <td>20</td>\n",
              "    </tr>\n",
              "    <tr>\n",
              "      <th>1</th>\n",
              "      <td>672423</td>\n",
              "      <td>1</td>\n",
              "      <td>1</td>\n",
              "      <td>1</td>\n",
              "      <td>2022</td>\n",
              "      <td>Winter</td>\n",
              "      <td>20</td>\n",
              "    </tr>\n",
              "    <tr>\n",
              "      <th>2</th>\n",
              "      <td>973559</td>\n",
              "      <td>11</td>\n",
              "      <td>22</td>\n",
              "      <td>1</td>\n",
              "      <td>2022</td>\n",
              "      <td>Winter</td>\n",
              "      <td>11</td>\n",
              "    </tr>\n",
              "    <tr>\n",
              "      <th>3</th>\n",
              "      <td>1522286</td>\n",
              "      <td>1</td>\n",
              "      <td>1</td>\n",
              "      <td>1</td>\n",
              "      <td>2022</td>\n",
              "      <td>Winter</td>\n",
              "      <td>20</td>\n",
              "    </tr>\n",
              "  </tbody>\n",
              "</table>\n",
              "</div>\n",
              "      <button class=\"colab-df-convert\" onclick=\"convertToInteractive('df-c1309736-16aa-41fa-9aa6-9ab46129eb4c')\"\n",
              "              title=\"Convert this dataframe to an interactive table.\"\n",
              "              style=\"display:none;\">\n",
              "        \n",
              "  <svg xmlns=\"http://www.w3.org/2000/svg\" height=\"24px\"viewBox=\"0 0 24 24\"\n",
              "       width=\"24px\">\n",
              "    <path d=\"M0 0h24v24H0V0z\" fill=\"none\"/>\n",
              "    <path d=\"M18.56 5.44l.94 2.06.94-2.06 2.06-.94-2.06-.94-.94-2.06-.94 2.06-2.06.94zm-11 1L8.5 8.5l.94-2.06 2.06-.94-2.06-.94L8.5 2.5l-.94 2.06-2.06.94zm10 10l.94 2.06.94-2.06 2.06-.94-2.06-.94-.94-2.06-.94 2.06-2.06.94z\"/><path d=\"M17.41 7.96l-1.37-1.37c-.4-.4-.92-.59-1.43-.59-.52 0-1.04.2-1.43.59L10.3 9.45l-7.72 7.72c-.78.78-.78 2.05 0 2.83L4 21.41c.39.39.9.59 1.41.59.51 0 1.02-.2 1.41-.59l7.78-7.78 2.81-2.81c.8-.78.8-2.07 0-2.86zM5.41 20L4 18.59l7.72-7.72 1.47 1.35L5.41 20z\"/>\n",
              "  </svg>\n",
              "      </button>\n",
              "      \n",
              "  <style>\n",
              "    .colab-df-container {\n",
              "      display:flex;\n",
              "      flex-wrap:wrap;\n",
              "      gap: 12px;\n",
              "    }\n",
              "\n",
              "    .colab-df-convert {\n",
              "      background-color: #E8F0FE;\n",
              "      border: none;\n",
              "      border-radius: 50%;\n",
              "      cursor: pointer;\n",
              "      display: none;\n",
              "      fill: #1967D2;\n",
              "      height: 32px;\n",
              "      padding: 0 0 0 0;\n",
              "      width: 32px;\n",
              "    }\n",
              "\n",
              "    .colab-df-convert:hover {\n",
              "      background-color: #E2EBFA;\n",
              "      box-shadow: 0px 1px 2px rgba(60, 64, 67, 0.3), 0px 1px 3px 1px rgba(60, 64, 67, 0.15);\n",
              "      fill: #174EA6;\n",
              "    }\n",
              "\n",
              "    [theme=dark] .colab-df-convert {\n",
              "      background-color: #3B4455;\n",
              "      fill: #D2E3FC;\n",
              "    }\n",
              "\n",
              "    [theme=dark] .colab-df-convert:hover {\n",
              "      background-color: #434B5C;\n",
              "      box-shadow: 0px 1px 3px 1px rgba(0, 0, 0, 0.15);\n",
              "      filter: drop-shadow(0px 1px 2px rgba(0, 0, 0, 0.3));\n",
              "      fill: #FFFFFF;\n",
              "    }\n",
              "  </style>\n",
              "\n",
              "      <script>\n",
              "        const buttonEl =\n",
              "          document.querySelector('#df-c1309736-16aa-41fa-9aa6-9ab46129eb4c button.colab-df-convert');\n",
              "        buttonEl.style.display =\n",
              "          google.colab.kernel.accessAllowed ? 'block' : 'none';\n",
              "\n",
              "        async function convertToInteractive(key) {\n",
              "          const element = document.querySelector('#df-c1309736-16aa-41fa-9aa6-9ab46129eb4c');\n",
              "          const dataTable =\n",
              "            await google.colab.kernel.invokeFunction('convertToInteractive',\n",
              "                                                     [key], {});\n",
              "          if (!dataTable) return;\n",
              "\n",
              "          const docLinkHtml = 'Like what you see? Visit the ' +\n",
              "            '<a target=\"_blank\" href=https://colab.research.google.com/notebooks/data_table.ipynb>data table notebook</a>'\n",
              "            + ' to learn more about interactive tables.';\n",
              "          element.innerHTML = '';\n",
              "          dataTable['output_type'] = 'display_data';\n",
              "          await google.colab.output.renderOutput(dataTable, element);\n",
              "          const docLink = document.createElement('div');\n",
              "          docLink.innerHTML = docLinkHtml;\n",
              "          element.appendChild(docLink);\n",
              "        }\n",
              "      </script>\n",
              "    </div>\n",
              "  </div>\n",
              "  "
            ]
          },
          "metadata": {},
          "execution_count": 12
        }
      ],
      "source": [
        "#select the current data (2022) as test data \n",
        "test_data = dataset[dataset.year == 2022].reset_index()\n",
        "test_data.head(4)"
      ]
    },
    {
      "cell_type": "code",
      "execution_count": 13,
      "id": "f41f4cdb",
      "metadata": {
        "id": "f41f4cdb"
      },
      "outputs": [],
      "source": [
        "#serialize train and test data to be loaded by train and test files \n",
        "train_data.to_pickle(\"train_data.pkl\")  \n",
        "test_data.to_pickle(\"test_data.pkl\")  "
      ]
    },
    {
      "cell_type": "code",
      "execution_count": 14,
      "id": "4f2411a5",
      "metadata": {
        "id": "4f2411a5"
      },
      "outputs": [],
      "source": [
        "name_train = 'train_data.pkl'"
      ]
    },
    {
      "cell_type": "code",
      "execution_count": 15,
      "id": "a549489a",
      "metadata": {
        "id": "a549489a",
        "colab": {
          "base_uri": "https://localhost:8080/"
        },
        "outputId": "6fb03852-79e8-4cb9-e86c-f919a64e840c"
      },
      "outputs": [
        {
          "output_type": "stream",
          "name": "stdout",
          "text": [
            "WARNING:root:TF Parameter Server distributed training not available (this is expected for the pre-build release).\n",
            "/usr/local/lib/python3.7/dist-packages/tensorflow_decision_forests/keras/core.py:2036: FutureWarning: In a future version of pandas all arguments of DataFrame.drop except for the argument 'labels' will be keyword-only\n",
            "  features_dataframe = dataframe.drop(label, 1)\n",
            "2022-03-22 12:24:00.771640: E tensorflow/stream_executor/cuda/cuda_driver.cc:271] failed call to cuInit: CUDA_ERROR_NO_DEVICE: no CUDA-capable device is detected\n",
            "Use /tmp/tmp54q8qj80 as temporary training directory\n",
            "Starting reading the dataset\n",
            "Training tensor examples:\n",
            "Features: {'index': <tf.Tensor 'data_2:0' shape=(None,) dtype=int64>, 'hour': <tf.Tensor 'data_1:0' shape=(None,) dtype=int64>, 'day': <tf.Tensor 'data:0' shape=(None,) dtype=int64>, 'month': <tf.Tensor 'data_3:0' shape=(None,) dtype=int64>, 'year': <tf.Tensor 'data_5:0' shape=(None,) dtype=int64>, 'season': <tf.Tensor 'data_4:0' shape=(None,) dtype=string>}\n",
            "Label: Tensor(\"data_6:0\", shape=(None,), dtype=int64)\n",
            "Weights: None\n",
            "Normalized tensor features:\n",
            " {'index': SemanticTensor(semantic=<Semantic.NUMERICAL: 1>, tensor=<tf.Tensor 'Cast:0' shape=(None,) dtype=float32>), 'hour': SemanticTensor(semantic=<Semantic.NUMERICAL: 1>, tensor=<tf.Tensor 'Cast_1:0' shape=(None,) dtype=float32>), 'day': SemanticTensor(semantic=<Semantic.NUMERICAL: 1>, tensor=<tf.Tensor 'Cast_2:0' shape=(None,) dtype=float32>), 'month': SemanticTensor(semantic=<Semantic.NUMERICAL: 1>, tensor=<tf.Tensor 'Cast_3:0' shape=(None,) dtype=float32>), 'year': SemanticTensor(semantic=<Semantic.NUMERICAL: 1>, tensor=<tf.Tensor 'Cast_4:0' shape=(None,) dtype=float32>), 'season': SemanticTensor(semantic=<Semantic.CATEGORICAL: 2>, tensor=<tf.Tensor 'data_4:0' shape=(None,) dtype=string>)}\n",
            "Dataset read in 0:00:11.231288\n",
            "Training model\n",
            "[INFO kernel.cc:752] Start Yggdrasil model training\n",
            "[INFO kernel.cc:753] Collect training examples\n",
            "[INFO kernel.cc:405] Number of batches: 507\n",
            "[INFO kernel.cc:406] Number of examples: 506480\n",
            "[INFO kernel.cc:775] Training dataset:\n",
            "Number of records: 506480\n",
            "Number of columns: 7\n",
            "\n",
            "Number of columns by type:\n",
            "\tNUMERICAL: 6 (85.7143%)\n",
            "\tCATEGORICAL: 1 (14.2857%)\n",
            "\n",
            "Columns:\n",
            "\n",
            "NUMERICAL: 6 (85.7143%)\n",
            "\t0: \"day\" NUMERICAL mean:15.6461 min:1 max:31 sd:8.82643\n",
            "\t1: \"hour\" NUMERICAL mean:12.8281 min:0 max:23 sd:6.34565\n",
            "\t2: \"index\" NUMERICAL mean:1.37701e+06 min:0 max:1.65186e+06 sd:155997\n",
            "\t3: \"month\" NUMERICAL mean:6.56528 min:1 max:12 sd:3.41952\n",
            "\t5: \"year\" NUMERICAL mean:2019 min:2017 max:2021 sd:1.42843\n",
            "\t6: \"__LABEL\" NUMERICAL mean:13.8026 min:1 max:53 sd:5.07902\n",
            "\n",
            "CATEGORICAL: 1 (14.2857%)\n",
            "\t4: \"season\" CATEGORICAL has-dict vocab-size:5 zero-ood-items most-frequent:\"Summer\" 134090 (26.4749%)\n",
            "\n",
            "Terminology:\n",
            "\tnas: Number of non-available (i.e. missing) values.\n",
            "\tood: Out of dictionary.\n",
            "\tmanually-defined: Attribute which type is manually defined by the user i.e. the type was not automatically inferred.\n",
            "\ttokenized: The attribute value is obtained through tokenization.\n",
            "\thas-dict: The attribute is attached to a string dictionary e.g. a categorical attribute stored as a string.\n",
            "\tvocab-size: Number of unique values.\n",
            "\n",
            "[INFO kernel.cc:821] Configure learner\n",
            "[WARNING gradient_boosted_trees.cc:1662] Subsample hyperparameter given but sampling method does not match.\n",
            "[WARNING gradient_boosted_trees.cc:1675] GOSS alpha hyperparameter given but GOSS is disabled.\n",
            "[WARNING gradient_boosted_trees.cc:1684] GOSS beta hyperparameter given but GOSS is disabled.\n",
            "[WARNING gradient_boosted_trees.cc:1696] SelGB ratio hyperparameter given but SelGB is disabled.\n",
            "[INFO kernel.cc:846] Training config:\n",
            "learner: \"GRADIENT_BOOSTED_TREES\"\n",
            "features: \"day\"\n",
            "features: \"hour\"\n",
            "features: \"index\"\n",
            "features: \"month\"\n",
            "features: \"season\"\n",
            "features: \"year\"\n",
            "label: \"__LABEL\"\n",
            "task: REGRESSION\n",
            "random_seed: 123456\n",
            "metadata {\n",
            "  framework: \"TF Keras\"\n",
            "}\n",
            "[yggdrasil_decision_forests.model.gradient_boosted_trees.proto.gradient_boosted_trees_config] {\n",
            "  num_trees: 500\n",
            "  decision_tree {\n",
            "    max_depth: 3\n",
            "    min_examples: 5\n",
            "    in_split_min_examples_check: true\n",
            "    keep_non_leaf_label_distribution: true\n",
            "    num_candidate_attributes: -1\n",
            "    missing_value_policy: GLOBAL_IMPUTATION\n",
            "    allow_na_conditions: false\n",
            "    categorical_set_greedy_forward {\n",
            "      sampling: 0.1\n",
            "      max_num_items: -1\n",
            "      min_item_frequency: 1\n",
            "    }\n",
            "    growing_strategy_local {\n",
            "    }\n",
            "    categorical {\n",
            "      cart {\n",
            "      }\n",
            "    }\n",
            "    axis_aligned_split {\n",
            "    }\n",
            "    internal {\n",
            "      sorting_strategy: PRESORTED\n",
            "    }\n",
            "    uplift {\n",
            "      min_examples_in_treatment: 5\n",
            "      split_score: KULLBACK_LEIBLER\n",
            "    }\n",
            "  }\n",
            "  shrinkage: 0.1\n",
            "  loss: SQUARED_ERROR\n",
            "  validation_set_ratio: 0.1\n",
            "  validation_interval_in_trees: 1\n",
            "  early_stopping: VALIDATION_LOSS_INCREASE\n",
            "  early_stopping_num_trees_look_ahead: 30\n",
            "  l2_regularization: 0\n",
            "  lambda_loss: 1\n",
            "  mart {\n",
            "  }\n",
            "  adapt_subsample_for_maximum_training_duration: false\n",
            "  l1_regularization: 0\n",
            "  use_hessian_gain: false\n",
            "  l2_regularization_categorical: 1\n",
            "  apply_link_function: true\n",
            "  compute_permutation_variable_importance: false\n",
            "  binary_focal_loss_options {\n",
            "    misprediction_exponent: 2\n",
            "    positive_sample_coefficient: 0.5\n",
            "  }\n",
            "}\n",
            "\n",
            "[INFO kernel.cc:849] Deployment config:\n",
            "cache_path: \"/tmp/tmp54q8qj80/working_cache\"\n",
            "num_threads: 2\n",
            "try_resume_training: true\n",
            "\n",
            "[INFO kernel.cc:878] Train model\n",
            "[INFO gradient_boosted_trees.cc:1006] Training gradient boosted tree on 506480 example(s) and 6 feature(s).\n",
            "[INFO gradient_boosted_trees.cc:1049] 455632 examples used for training and 50848 examples used for validation\n",
            "[INFO gradient_boosted_trees.cc:1431] \tnum-trees:1 train-loss:4.941356 train-rmse:4.941356 valid-loss:4.916073 valid-rmse:4.916073\n",
            "[INFO gradient_boosted_trees.cc:1433] \tnum-trees:2 train-loss:4.817825 train-rmse:4.817825 valid-loss:4.792328 valid-rmse:4.792328\n",
            "[INFO gradient_boosted_trees.cc:1433] \tnum-trees:168 train-loss:4.019201 train-rmse:4.019201 valid-loss:3.995243 valid-rmse:3.995243\n",
            "[INFO gradient_boosted_trees.cc:1433] \tnum-trees:363 train-loss:3.979728 train-rmse:3.979728 valid-loss:3.955477 valid-rmse:3.955477\n",
            "[INFO gradient_boosted_trees.cc:1431] \tnum-trees:500 train-loss:3.962429 train-rmse:3.962429 valid-loss:3.939539 valid-rmse:3.939539\n",
            "[INFO gradient_boosted_trees.cc:1475] Create final snapshot of the model at iteration 500\n",
            "[INFO gradient_boosted_trees.cc:232] Truncates the model to 500 tree(s) i.e. 500  iteration(s).\n",
            "[INFO gradient_boosted_trees.cc:266] Final model num-trees:500 valid-loss:3.939539 valid-rmse:3.939539\n",
            "[INFO kernel.cc:894] Export model in log directory: /tmp/tmp54q8qj80\n",
            "[INFO kernel.cc:902] Save model in resources\n",
            "Model trained in 0:01:23.848245\n",
            "Compiling model\n",
            "[INFO kernel.cc:1153] Loading model from path\n",
            "[INFO abstract_model.cc:1063] Engine \"GradientBoostedTreesQuickScorerExtended\" built\n",
            "[INFO kernel.cc:1001] Use fast generic engine\n",
            "507/507 - 95s - 95s/epoch - 188ms/step\n",
            "WARNING:tensorflow:AutoGraph could not transform <function simple_ml_inference_op_with_handle at 0x7f77056315f0> and will run it as-is.\n",
            "Please report this to the TensorFlow team. When filing the bug, set the verbosity to 10 (on Linux, `export AUTOGRAPH_VERBOSITY=10`) and attach the full output.\n",
            "Cause: could not get source code\n",
            "To silence this warning, decorate the function with @tf.autograph.experimental.do_not_convert\n",
            "WARNING:tensorflow:AutoGraph could not transform <function simple_ml_inference_op_with_handle at 0x7f77056315f0> and will run it as-is.\n",
            "Please report this to the TensorFlow team. When filing the bug, set the verbosity to 10 (on Linux, `export AUTOGRAPH_VERBOSITY=10`) and attach the full output.\n",
            "Cause: could not get source code\n",
            "To silence this warning, decorate the function with @tf.autograph.experimental.do_not_convert\n",
            "Model: \"gradient_boosted_trees_model\"\n",
            "_________________________________________________________________\n",
            " Layer (type)                Output Shape              Param #   \n",
            "=================================================================\n",
            "=================================================================\n",
            "Total params: 1\n",
            "Trainable params: 0\n",
            "Non-trainable params: 1\n",
            "_________________________________________________________________\n",
            "Type: \"GRADIENT_BOOSTED_TREES\"\n",
            "Task: REGRESSION\n",
            "Label: \"__LABEL\"\n",
            "\n",
            "Input Features (6):\n",
            "\tday\n",
            "\thour\n",
            "\tindex\n",
            "\tmonth\n",
            "\tseason\n",
            "\tyear\n",
            "\n",
            "No weights\n",
            "\n",
            "Variable Importance: MEAN_MIN_DEPTH:\n",
            "    1. \"__LABEL\"  2.000000 ################\n",
            "    2.  \"season\"  1.750000 ###########\n",
            "    3.    \"year\"  1.735000 ###########\n",
            "    4.     \"day\"  1.699000 ##########\n",
            "    5.   \"month\"  1.671000 ##########\n",
            "    6.    \"hour\"  1.473000 #######\n",
            "    7.   \"index\"  1.038000 \n",
            "\n",
            "Variable Importance: NUM_AS_ROOT:\n",
            "    1.  \"index\" 190.000000 ################\n",
            "    2.   \"hour\" 101.000000 ######\n",
            "    3.  \"month\" 62.000000 #\n",
            "    4.    \"day\" 54.000000 #\n",
            "    5.   \"year\" 49.000000 \n",
            "    6. \"season\" 44.000000 \n",
            "\n",
            "Variable Importance: NUM_NODES:\n",
            "    1.  \"index\" 650.000000 ################\n",
            "    2.   \"hour\" 304.000000 #####\n",
            "    3.  \"month\" 154.000000 #\n",
            "    4.    \"day\" 152.000000 #\n",
            "    5.   \"year\" 122.000000 \n",
            "    6. \"season\" 118.000000 \n",
            "\n",
            "Variable Importance: SUM_SCORE:\n",
            "    1.   \"hour\" 20704459.513241 ################\n",
            "    2.  \"index\" 1447465.060783 \n",
            "    3.   \"year\" 677937.790002 \n",
            "    4. \"season\" 594354.599425 \n",
            "    5.  \"month\" 495145.314653 \n",
            "    6.    \"day\" 351322.047949 \n",
            "\n",
            "\n",
            "\n",
            "Loss: SQUARED_ERROR\n",
            "Validation loss value: 3.93954\n",
            "Number of trees per iteration: 1\n",
            "Node format: NOT_SET\n",
            "Number of trees: 500\n",
            "Total number of nodes: 3500\n",
            "\n",
            "Number of nodes by tree:\n",
            "Count: 500 Average: 7 StdDev: 0\n",
            "Min: 7 Max: 7 Ignored: 0\n",
            "----------------------------------------------\n",
            "[ 7, 7] 500 100.00% 100.00% ##########\n",
            "\n",
            "Depth by leafs:\n",
            "Count: 2000 Average: 2 StdDev: 0\n",
            "Min: 2 Max: 2 Ignored: 0\n",
            "----------------------------------------------\n",
            "[ 2, 2] 2000 100.00% 100.00% ##########\n",
            "\n",
            "Number of training obs by leaf:\n",
            "Count: 2000 Average: 113908 StdDev: 129933\n",
            "Min: 5 Max: 455511 Ignored: 0\n",
            "----------------------------------------------\n",
            "[      5,  22780) 658  32.90%  32.90% ##########\n",
            "[  22780,  45555) 258  12.90%  45.80% ####\n",
            "[  45555,  68331) 160   8.00%  53.80% ##\n",
            "[  68331,  91106) 127   6.35%  60.15% ##\n",
            "[  91106, 113881)  92   4.60%  64.75% #\n",
            "[ 113881, 136657)  79   3.95%  68.70% #\n",
            "[ 136657, 159432)  47   2.35%  71.05% #\n",
            "[ 159432, 182207)  74   3.70%  74.75% #\n",
            "[ 182207, 204983)  51   2.55%  77.30% #\n",
            "[ 204983, 227758)  58   2.90%  80.20% #\n",
            "[ 227758, 250533)  52   2.60%  82.80% #\n",
            "[ 250533, 273309)  38   1.90%  84.70% #\n",
            "[ 273309, 296084)  50   2.50%  87.20% #\n",
            "[ 296084, 318859)  26   1.30%  88.50%\n",
            "[ 318859, 341635)  29   1.45%  89.95%\n",
            "[ 341635, 364410)  40   2.00%  91.95% #\n",
            "[ 364410, 387185)  48   2.40%  94.35% #\n",
            "[ 387185, 409961)  22   1.10%  95.45%\n",
            "[ 409961, 432736)  31   1.55%  97.00%\n",
            "[ 432736, 455511]  60   3.00% 100.00% #\n",
            "\n",
            "Attribute in nodes:\n",
            "\t650 : index [NUMERICAL]\n",
            "\t304 : hour [NUMERICAL]\n",
            "\t154 : month [NUMERICAL]\n",
            "\t152 : day [NUMERICAL]\n",
            "\t122 : year [NUMERICAL]\n",
            "\t118 : season [CATEGORICAL]\n",
            "\n",
            "Attribute in nodes with depth <= 0:\n",
            "\t190 : index [NUMERICAL]\n",
            "\t101 : hour [NUMERICAL]\n",
            "\t62 : month [NUMERICAL]\n",
            "\t54 : day [NUMERICAL]\n",
            "\t49 : year [NUMERICAL]\n",
            "\t44 : season [CATEGORICAL]\n",
            "\n",
            "Attribute in nodes with depth <= 1:\n",
            "\t650 : index [NUMERICAL]\n",
            "\t304 : hour [NUMERICAL]\n",
            "\t154 : month [NUMERICAL]\n",
            "\t152 : day [NUMERICAL]\n",
            "\t122 : year [NUMERICAL]\n",
            "\t118 : season [CATEGORICAL]\n",
            "\n",
            "Attribute in nodes with depth <= 2:\n",
            "\t650 : index [NUMERICAL]\n",
            "\t304 : hour [NUMERICAL]\n",
            "\t154 : month [NUMERICAL]\n",
            "\t152 : day [NUMERICAL]\n",
            "\t122 : year [NUMERICAL]\n",
            "\t118 : season [CATEGORICAL]\n",
            "\n",
            "Attribute in nodes with depth <= 3:\n",
            "\t650 : index [NUMERICAL]\n",
            "\t304 : hour [NUMERICAL]\n",
            "\t154 : month [NUMERICAL]\n",
            "\t152 : day [NUMERICAL]\n",
            "\t122 : year [NUMERICAL]\n",
            "\t118 : season [CATEGORICAL]\n",
            "\n",
            "Attribute in nodes with depth <= 5:\n",
            "\t650 : index [NUMERICAL]\n",
            "\t304 : hour [NUMERICAL]\n",
            "\t154 : month [NUMERICAL]\n",
            "\t152 : day [NUMERICAL]\n",
            "\t122 : year [NUMERICAL]\n",
            "\t118 : season [CATEGORICAL]\n",
            "\n",
            "Condition type in nodes:\n",
            "\t1382 : HigherCondition\n",
            "\t118 : ContainsBitmapCondition\n",
            "Condition type in nodes with depth <= 0:\n",
            "\t456 : HigherCondition\n",
            "\t44 : ContainsBitmapCondition\n",
            "Condition type in nodes with depth <= 1:\n",
            "\t1382 : HigherCondition\n",
            "\t118 : ContainsBitmapCondition\n",
            "Condition type in nodes with depth <= 2:\n",
            "\t1382 : HigherCondition\n",
            "\t118 : ContainsBitmapCondition\n",
            "Condition type in nodes with depth <= 3:\n",
            "\t1382 : HigherCondition\n",
            "\t118 : ContainsBitmapCondition\n",
            "Condition type in nodes with depth <= 5:\n",
            "\t1382 : HigherCondition\n",
            "\t118 : ContainsBitmapCondition\n",
            "\n",
            "None\n",
            "2022-03-22 12:26:32.102941: W tensorflow/python/util/util.cc:368] Sets are not currently considered sequences, but this may change in the future, so consider avoiding using them.\n",
            "WARNING:absl:Found untraced functions such as call_get_leaves while saving (showing 1 of 1). These functions will not be directly callable after loading.\n"
          ]
        }
      ],
      "source": [
        "#train the model\n",
        "!python train.py {name_train}"
      ]
    },
    {
      "cell_type": "markdown",
      "id": "87acc3c4",
      "metadata": {
        "id": "87acc3c4"
      },
      "source": [
        "### testing"
      ]
    },
    {
      "cell_type": "code",
      "execution_count": 16,
      "id": "52403daf",
      "metadata": {
        "id": "52403daf",
        "colab": {
          "base_uri": "https://localhost:8080/"
        },
        "outputId": "3e4c03bf-bef7-4221-a7cf-bd45a2dfa05f"
      },
      "outputs": [
        {
          "output_type": "stream",
          "name": "stdout",
          "text": [
            "WARNING:root:TF Parameter Server distributed training not available (this is expected for the pre-build release).\n",
            "/usr/local/lib/python3.7/dist-packages/tensorflow_decision_forests/keras/core.py:2036: FutureWarning: In a future version of pandas all arguments of DataFrame.drop except for the argument 'labels' will be keyword-only\n",
            "  features_dataframe = dataframe.drop(label, 1)\n",
            "2022-03-22 12:26:35.881298: E tensorflow/stream_executor/cuda/cuda_driver.cc:271] failed call to cuInit: CUDA_ERROR_NO_DEVICE: no CUDA-capable device is detected\n",
            "[INFO kernel.cc:1153] Loading model from path\n",
            "[INFO abstract_model.cc:1063] Engine \"GradientBoostedTreesQuickScorerExtended\" built\n",
            "[INFO kernel.cc:1001] Use fast generic engine\n",
            "25/25 [==============================] - 0s 6ms/step - loss: 0.0000e+00 - mean_absolute_error: 3.4359\n"
          ]
        }
      ],
      "source": [
        "#test and evaluate the model \n",
        "!python test.py test_data.pkl"
      ]
    },
    {
      "cell_type": "markdown",
      "id": "217091f5",
      "metadata": {
        "id": "217091f5"
      },
      "source": [
        "### Plotting the results "
      ]
    },
    {
      "cell_type": "code",
      "execution_count": 17,
      "id": "23c3e1ba",
      "metadata": {
        "id": "23c3e1ba"
      },
      "outputs": [],
      "source": [
        "#load the model \n",
        "model = pickle.load(open('./model.sav', 'rb'))"
      ]
    },
    {
      "cell_type": "code",
      "execution_count": 18,
      "id": "0b280f3a",
      "metadata": {
        "id": "0b280f3a",
        "colab": {
          "base_uri": "https://localhost:8080/"
        },
        "outputId": "91a43266-a0d8-44bb-93d7-084e76c3d535"
      },
      "outputs": [
        {
          "output_type": "stream",
          "name": "stderr",
          "text": [
            "/usr/local/lib/python3.7/dist-packages/tensorflow_decision_forests/keras/core.py:2036: FutureWarning: In a future version of pandas all arguments of DataFrame.drop except for the argument 'labels' will be keyword-only\n",
            "  features_dataframe = dataframe.drop(label, 1)\n"
          ]
        }
      ],
      "source": [
        "#use test dataset to predict the call number and compare with real data \n",
        "test_ds  = tfdf.keras.pd_dataframe_to_tf_dataset(test_data, label='calls_per_hour',task=tfdf.keras.Task.REGRESSION)\n",
        "np_result = np.array([x[0] for x in  model.predict(test_ds).astype(int)])"
      ]
    },
    {
      "cell_type": "code",
      "execution_count": 19,
      "id": "b83bacc7",
      "metadata": {
        "id": "b83bacc7"
      },
      "outputs": [],
      "source": [
        "#create result dataframe as a copy of test data in order to append the prediction to it \n",
        "result = test_data.reset_index()"
      ]
    },
    {
      "cell_type": "code",
      "execution_count": 20,
      "id": "89ee03ea",
      "metadata": {
        "id": "89ee03ea"
      },
      "outputs": [],
      "source": [
        "#add new column for the predicted values \n",
        "result['predicted'] = pd.DataFrame(list(np_result))"
      ]
    },
    {
      "cell_type": "code",
      "execution_count": 21,
      "id": "8442de0d",
      "metadata": {
        "id": "8442de0d",
        "colab": {
          "base_uri": "https://localhost:8080/"
        },
        "outputId": "86f5ba98-84d3-4fa2-fd64-38845cd99be8"
      },
      "outputs": [
        {
          "output_type": "stream",
          "name": "stderr",
          "text": [
            "/usr/local/lib/python3.7/dist-packages/ipykernel_launcher.py:2: FutureWarning: Indexing with multiple keys (implicitly converted to a tuple of keys) will be deprecated, use a list instead.\n",
            "  \n"
          ]
        }
      ],
      "source": [
        "#create a summary dataset to visualize the results \n",
        "summary = result.groupby(['year','season','month','day'])['calls_per_hour','predicted'].sum().reset_index()"
      ]
    },
    {
      "cell_type": "code",
      "execution_count": 22,
      "id": "cc55da5d",
      "metadata": {
        "id": "cc55da5d"
      },
      "outputs": [],
      "source": [
        "#create a column for the weeks to help visualize the calls number per week per month \n",
        "summary['week'] = summary['day'].apply(lambda x: int(x/7)%4+1)"
      ]
    },
    {
      "cell_type": "code",
      "execution_count": 23,
      "id": "2014fc31",
      "metadata": {
        "id": "2014fc31",
        "colab": {
          "base_uri": "https://localhost:8080/",
          "height": 423
        },
        "outputId": "c932c779-0ab8-4f9f-df45-965812b65af2"
      },
      "outputs": [
        {
          "output_type": "execute_result",
          "data": {
            "text/plain": [
              "    year  season  month  day  calls_per_hour  predicted  week\n",
              "0   2022  Spring      3   21            4476       3809     4\n",
              "1   2022  Spring      3   22             471        411     4\n",
              "2   2022  Winter      1    1            6453       4581     1\n",
              "3   2022  Winter      1    2            6691       4815     1\n",
              "4   2022  Winter      1    3            5701       4643     1\n",
              "..   ...     ...    ...  ...             ...        ...   ...\n",
              "76  2022  Winter      3   16            4145       4309     3\n",
              "77  2022  Winter      3   17            4543       4750     3\n",
              "78  2022  Winter      3   18            4598       4946     3\n",
              "79  2022  Winter      3   19            4224       4556     3\n",
              "80  2022  Winter      3   20            2856       3586     3\n",
              "\n",
              "[81 rows x 7 columns]"
            ],
            "text/html": [
              "\n",
              "  <div id=\"df-4cba3e8f-bd52-4039-8d99-28a888c46d15\">\n",
              "    <div class=\"colab-df-container\">\n",
              "      <div>\n",
              "<style scoped>\n",
              "    .dataframe tbody tr th:only-of-type {\n",
              "        vertical-align: middle;\n",
              "    }\n",
              "\n",
              "    .dataframe tbody tr th {\n",
              "        vertical-align: top;\n",
              "    }\n",
              "\n",
              "    .dataframe thead th {\n",
              "        text-align: right;\n",
              "    }\n",
              "</style>\n",
              "<table border=\"1\" class=\"dataframe\">\n",
              "  <thead>\n",
              "    <tr style=\"text-align: right;\">\n",
              "      <th></th>\n",
              "      <th>year</th>\n",
              "      <th>season</th>\n",
              "      <th>month</th>\n",
              "      <th>day</th>\n",
              "      <th>calls_per_hour</th>\n",
              "      <th>predicted</th>\n",
              "      <th>week</th>\n",
              "    </tr>\n",
              "  </thead>\n",
              "  <tbody>\n",
              "    <tr>\n",
              "      <th>0</th>\n",
              "      <td>2022</td>\n",
              "      <td>Spring</td>\n",
              "      <td>3</td>\n",
              "      <td>21</td>\n",
              "      <td>4476</td>\n",
              "      <td>3809</td>\n",
              "      <td>4</td>\n",
              "    </tr>\n",
              "    <tr>\n",
              "      <th>1</th>\n",
              "      <td>2022</td>\n",
              "      <td>Spring</td>\n",
              "      <td>3</td>\n",
              "      <td>22</td>\n",
              "      <td>471</td>\n",
              "      <td>411</td>\n",
              "      <td>4</td>\n",
              "    </tr>\n",
              "    <tr>\n",
              "      <th>2</th>\n",
              "      <td>2022</td>\n",
              "      <td>Winter</td>\n",
              "      <td>1</td>\n",
              "      <td>1</td>\n",
              "      <td>6453</td>\n",
              "      <td>4581</td>\n",
              "      <td>1</td>\n",
              "    </tr>\n",
              "    <tr>\n",
              "      <th>3</th>\n",
              "      <td>2022</td>\n",
              "      <td>Winter</td>\n",
              "      <td>1</td>\n",
              "      <td>2</td>\n",
              "      <td>6691</td>\n",
              "      <td>4815</td>\n",
              "      <td>1</td>\n",
              "    </tr>\n",
              "    <tr>\n",
              "      <th>4</th>\n",
              "      <td>2022</td>\n",
              "      <td>Winter</td>\n",
              "      <td>1</td>\n",
              "      <td>3</td>\n",
              "      <td>5701</td>\n",
              "      <td>4643</td>\n",
              "      <td>1</td>\n",
              "    </tr>\n",
              "    <tr>\n",
              "      <th>...</th>\n",
              "      <td>...</td>\n",
              "      <td>...</td>\n",
              "      <td>...</td>\n",
              "      <td>...</td>\n",
              "      <td>...</td>\n",
              "      <td>...</td>\n",
              "      <td>...</td>\n",
              "    </tr>\n",
              "    <tr>\n",
              "      <th>76</th>\n",
              "      <td>2022</td>\n",
              "      <td>Winter</td>\n",
              "      <td>3</td>\n",
              "      <td>16</td>\n",
              "      <td>4145</td>\n",
              "      <td>4309</td>\n",
              "      <td>3</td>\n",
              "    </tr>\n",
              "    <tr>\n",
              "      <th>77</th>\n",
              "      <td>2022</td>\n",
              "      <td>Winter</td>\n",
              "      <td>3</td>\n",
              "      <td>17</td>\n",
              "      <td>4543</td>\n",
              "      <td>4750</td>\n",
              "      <td>3</td>\n",
              "    </tr>\n",
              "    <tr>\n",
              "      <th>78</th>\n",
              "      <td>2022</td>\n",
              "      <td>Winter</td>\n",
              "      <td>3</td>\n",
              "      <td>18</td>\n",
              "      <td>4598</td>\n",
              "      <td>4946</td>\n",
              "      <td>3</td>\n",
              "    </tr>\n",
              "    <tr>\n",
              "      <th>79</th>\n",
              "      <td>2022</td>\n",
              "      <td>Winter</td>\n",
              "      <td>3</td>\n",
              "      <td>19</td>\n",
              "      <td>4224</td>\n",
              "      <td>4556</td>\n",
              "      <td>3</td>\n",
              "    </tr>\n",
              "    <tr>\n",
              "      <th>80</th>\n",
              "      <td>2022</td>\n",
              "      <td>Winter</td>\n",
              "      <td>3</td>\n",
              "      <td>20</td>\n",
              "      <td>2856</td>\n",
              "      <td>3586</td>\n",
              "      <td>3</td>\n",
              "    </tr>\n",
              "  </tbody>\n",
              "</table>\n",
              "<p>81 rows × 7 columns</p>\n",
              "</div>\n",
              "      <button class=\"colab-df-convert\" onclick=\"convertToInteractive('df-4cba3e8f-bd52-4039-8d99-28a888c46d15')\"\n",
              "              title=\"Convert this dataframe to an interactive table.\"\n",
              "              style=\"display:none;\">\n",
              "        \n",
              "  <svg xmlns=\"http://www.w3.org/2000/svg\" height=\"24px\"viewBox=\"0 0 24 24\"\n",
              "       width=\"24px\">\n",
              "    <path d=\"M0 0h24v24H0V0z\" fill=\"none\"/>\n",
              "    <path d=\"M18.56 5.44l.94 2.06.94-2.06 2.06-.94-2.06-.94-.94-2.06-.94 2.06-2.06.94zm-11 1L8.5 8.5l.94-2.06 2.06-.94-2.06-.94L8.5 2.5l-.94 2.06-2.06.94zm10 10l.94 2.06.94-2.06 2.06-.94-2.06-.94-.94-2.06-.94 2.06-2.06.94z\"/><path d=\"M17.41 7.96l-1.37-1.37c-.4-.4-.92-.59-1.43-.59-.52 0-1.04.2-1.43.59L10.3 9.45l-7.72 7.72c-.78.78-.78 2.05 0 2.83L4 21.41c.39.39.9.59 1.41.59.51 0 1.02-.2 1.41-.59l7.78-7.78 2.81-2.81c.8-.78.8-2.07 0-2.86zM5.41 20L4 18.59l7.72-7.72 1.47 1.35L5.41 20z\"/>\n",
              "  </svg>\n",
              "      </button>\n",
              "      \n",
              "  <style>\n",
              "    .colab-df-container {\n",
              "      display:flex;\n",
              "      flex-wrap:wrap;\n",
              "      gap: 12px;\n",
              "    }\n",
              "\n",
              "    .colab-df-convert {\n",
              "      background-color: #E8F0FE;\n",
              "      border: none;\n",
              "      border-radius: 50%;\n",
              "      cursor: pointer;\n",
              "      display: none;\n",
              "      fill: #1967D2;\n",
              "      height: 32px;\n",
              "      padding: 0 0 0 0;\n",
              "      width: 32px;\n",
              "    }\n",
              "\n",
              "    .colab-df-convert:hover {\n",
              "      background-color: #E2EBFA;\n",
              "      box-shadow: 0px 1px 2px rgba(60, 64, 67, 0.3), 0px 1px 3px 1px rgba(60, 64, 67, 0.15);\n",
              "      fill: #174EA6;\n",
              "    }\n",
              "\n",
              "    [theme=dark] .colab-df-convert {\n",
              "      background-color: #3B4455;\n",
              "      fill: #D2E3FC;\n",
              "    }\n",
              "\n",
              "    [theme=dark] .colab-df-convert:hover {\n",
              "      background-color: #434B5C;\n",
              "      box-shadow: 0px 1px 3px 1px rgba(0, 0, 0, 0.15);\n",
              "      filter: drop-shadow(0px 1px 2px rgba(0, 0, 0, 0.3));\n",
              "      fill: #FFFFFF;\n",
              "    }\n",
              "  </style>\n",
              "\n",
              "      <script>\n",
              "        const buttonEl =\n",
              "          document.querySelector('#df-4cba3e8f-bd52-4039-8d99-28a888c46d15 button.colab-df-convert');\n",
              "        buttonEl.style.display =\n",
              "          google.colab.kernel.accessAllowed ? 'block' : 'none';\n",
              "\n",
              "        async function convertToInteractive(key) {\n",
              "          const element = document.querySelector('#df-4cba3e8f-bd52-4039-8d99-28a888c46d15');\n",
              "          const dataTable =\n",
              "            await google.colab.kernel.invokeFunction('convertToInteractive',\n",
              "                                                     [key], {});\n",
              "          if (!dataTable) return;\n",
              "\n",
              "          const docLinkHtml = 'Like what you see? Visit the ' +\n",
              "            '<a target=\"_blank\" href=https://colab.research.google.com/notebooks/data_table.ipynb>data table notebook</a>'\n",
              "            + ' to learn more about interactive tables.';\n",
              "          element.innerHTML = '';\n",
              "          dataTable['output_type'] = 'display_data';\n",
              "          await google.colab.output.renderOutput(dataTable, element);\n",
              "          const docLink = document.createElement('div');\n",
              "          docLink.innerHTML = docLinkHtml;\n",
              "          element.appendChild(docLink);\n",
              "        }\n",
              "      </script>\n",
              "    </div>\n",
              "  </div>\n",
              "  "
            ]
          },
          "metadata": {},
          "execution_count": 23
        }
      ],
      "source": [
        "summary"
      ]
    },
    {
      "cell_type": "code",
      "execution_count": 24,
      "id": "5b8f2e6b",
      "metadata": {
        "id": "5b8f2e6b",
        "colab": {
          "base_uri": "https://localhost:8080/"
        },
        "outputId": "300849ae-9cd8-425c-b64d-0cff3dd74ca2"
      },
      "outputs": [
        {
          "output_type": "stream",
          "name": "stderr",
          "text": [
            "/usr/local/lib/python3.7/dist-packages/ipykernel_launcher.py:2: FutureWarning: Indexing with multiple keys (implicitly converted to a tuple of keys) will be deprecated, use a list instead.\n",
            "  \n"
          ]
        }
      ],
      "source": [
        "#select data to plot i.e. month, week, real vs predicated calls number\n",
        "data_plot =  summary.groupby(['month','week'])['calls_per_hour','predicted'].sum().reset_index()"
      ]
    },
    {
      "cell_type": "code",
      "execution_count": 25,
      "id": "3537730b",
      "metadata": {
        "id": "3537730b"
      },
      "outputs": [],
      "source": [
        "#combine the columns week and month to vizualize all the weeks and their respective months \n",
        "data_plot['m_w'] = data_plot['month']*10 + data_plot['week']"
      ]
    },
    {
      "cell_type": "code",
      "execution_count": 26,
      "id": "501c6935",
      "metadata": {
        "id": "501c6935"
      },
      "outputs": [],
      "source": [
        "#convert the month_week column to string in order to be fully display in the x axis \n",
        "data_plot['m_w']=data_plot['m_w'].astype(str)"
      ]
    },
    {
      "cell_type": "code",
      "execution_count": 27,
      "id": "db83d1a6",
      "metadata": {
        "id": "db83d1a6",
        "colab": {
          "base_uri": "https://localhost:8080/",
          "height": 312
        },
        "outputId": "2686432a-54eb-4429-d858-e3db32f79b44"
      },
      "outputs": [
        {
          "output_type": "execute_result",
          "data": {
            "text/plain": [
              "<matplotlib.legend.Legend at 0x7f2053400c90>"
            ]
          },
          "metadata": {},
          "execution_count": 27
        },
        {
          "output_type": "display_data",
          "data": {
            "text/plain": [
              "<Figure size 432x288 with 1 Axes>"
            ],
            "image/png": "[encoded data removed]"
          },
          "metadata": {
            "needs_background": "light"
          }
        }
      ],
      "source": [
        "import pandas as pd\n",
        "import matplotlib.pyplot as plt\n",
        "import seaborn as sns\n",
        "\n",
        "p=sns.lineplot(x = 'm_w', y = 'calls_per_hour',data = data_plot)\n",
        "p=sns.lineplot(x = 'm_w', y = 'predicted',data = data_plot)\n",
        "\n",
        "p.set_xlabel(\"weeks of 2022 (13 => 3rd week of January)\")\n",
        "p.set_ylabel(\"calls volume\")\n",
        "p.set_title('Comparison between the real and predicted 911 calls volume per week for Seattle in 2022')\n",
        "plt.legend(labels=[\"calls_per_hour\",\"predicted\"])"
      ]
    }
  ],
  "metadata": {
    "kernelspec": {
      "display_name": "Python 3",
      "language": "python",
      "name": "python3"
    },
    "language_info": {
      "codemirror_mode": {
        "name": "ipython",
        "version": 3
      },
      "file_extension": ".py",
      "mimetype": "text/x-python",
      "name": "python",
      "nbconvert_exporter": "python",
      "pygments_lexer": "ipython3",
      "version": "3.7.9"
    },
    "colab": {
      "name": "ML_pipeline.ipynb",
      "provenance": []
    }
  },
  "nbformat": 4,
  "nbformat_minor": 5
}