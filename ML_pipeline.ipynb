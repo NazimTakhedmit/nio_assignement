{
 "cells": [
  {
   "cell_type": "markdown",
   "id": "4d8679a1",
   "metadata": {},
   "source": [
    "# ML pipeline\n",
    "\n",
    "##### this notebook puts together the different parts of the pipeline covered by the external files \n",
    " the pipeline runs as follows: \n",
    " - Data loading\n",
    " - Features engineering \n",
    " - Train and validation \n",
    " - Testing \n",
    " - Plotting the results \n",
    " \n"
   ]
  },
  {
   "cell_type": "markdown",
   "id": "a7569efa",
   "metadata": {},
   "source": [
    "### Data loading "
   ]
  },
  {
   "cell_type": "code",
   "execution_count": null,
   "id": "9ec2145a",
   "metadata": {},
   "outputs": [],
   "source": [
    "# raw data name\n",
    "raw_data_name = 'Seattle_Real_Time_Fire_911_Calls.csv'"
   ]
  },
  {
   "cell_type": "markdown",
   "id": "31dbc922",
   "metadata": {},
   "source": [
    "### Features engineering"
   ]
  },
  {
   "cell_type": "code",
   "execution_count": null,
   "id": "77996fe8",
   "metadata": {},
   "outputs": [],
   "source": [
    "!python features_engineering.py {raw_data_name}"
   ]
  },
  {
   "cell_type": "markdown",
   "id": "ecf9dc61",
   "metadata": {},
   "source": [
    "### Train and validation "
   ]
  },
  {
   "cell_type": "code",
   "execution_count": null,
   "id": "0e018799",
   "metadata": {},
   "outputs": [],
   "source": [
    "import tensorflow_decision_forests as tfdf\n",
    "import pandas as pd\n",
    "import shutil \n",
    "import numpy as np\n",
    "import pickle"
   ]
  },
  {
   "cell_type": "code",
   "execution_count": null,
   "id": "d34ae4aa",
   "metadata": {},
   "outputs": [],
   "source": [
    "#read data\n",
    "dataset_full = pd.read_csv(\"clean_data.csv\")\n",
    "dataset_full.columns"
   ]
  },
  {
   "cell_type": "code",
   "execution_count": null,
   "id": "8a4285eb",
   "metadata": {},
   "outputs": [],
   "source": [
    "#select the relevant columns for forecast\n",
    "cols = ['hour', 'day', 'month', 'year', 'season', 'calls_per_hour']\n",
    "\n",
    "dataset = dataset_full[cols]"
   ]
  },
  {
   "cell_type": "code",
   "execution_count": null,
   "id": "73ac77ed",
   "metadata": {},
   "outputs": [],
   "source": [
    "#select training data as data of the five years before 2022\n",
    "train_data = dataset[dataset.year.isin([2017, 2018, 2019, 2020, 2021])].reset_index()\n",
    "train_data.head(4)\n",
    "#test_data = dataset."
   ]
  },
  {
   "cell_type": "code",
   "execution_count": null,
   "id": "84b384fe",
   "metadata": {},
   "outputs": [],
   "source": [
    "#select the current data (2022) as test data \n",
    "test_data = dataset[dataset.year == 2022].reset_index()\n",
    "test_data.head(4)"
   ]
  },
  {
   "cell_type": "code",
   "execution_count": null,
   "id": "f41f4cdb",
   "metadata": {},
   "outputs": [],
   "source": [
    "#serialize train and test data to be loaded by train and test files \n",
    "train_data.to_pickle(\"train_data.pkl\")  \n",
    "test_data.to_pickle(\"test_data.pkl\")  "
   ]
  },
  {
   "cell_type": "code",
   "execution_count": null,
   "id": "4f2411a5",
   "metadata": {},
   "outputs": [],
   "source": [
    "name_train = 'train_data.pkl'"
   ]
  },
  {
   "cell_type": "code",
   "execution_count": null,
   "id": "a549489a",
   "metadata": {},
   "outputs": [],
   "source": [
    "#train the model\n",
    "!python train.py {name_train}"
   ]
  },
  {
   "cell_type": "markdown",
   "id": "87acc3c4",
   "metadata": {},
   "source": [
    "### testing"
   ]
  },
  {
   "cell_type": "code",
   "execution_count": null,
   "id": "52403daf",
   "metadata": {},
   "outputs": [],
   "source": [
    "#test and evaluate the model \n",
    "!python test.py test_data.pkl"
   ]
  },
  {
   "cell_type": "markdown",
   "id": "217091f5",
   "metadata": {},
   "source": [
    "### Plotting the results "
   ]
  },
  {
   "cell_type": "code",
   "execution_count": null,
   "id": "23c3e1ba",
   "metadata": {},
   "outputs": [],
   "source": [
    "#load the model \n",
    "model = pickle.load(open('./model.sav', 'rb'))"
   ]
  },
  {
   "cell_type": "code",
   "execution_count": null,
   "id": "0b280f3a",
   "metadata": {},
   "outputs": [],
   "source": [
    "#use test dataset to predict the call number and compare with real data \n",
    "test_ds  = tfdf.keras.pd_dataframe_to_tf_dataset(test_data, label='calls_per_hour',task=tfdf.keras.Task.REGRESSION)\n",
    "np_result = np.array([x[0] for x in  model.predict(test_ds).astype(int)])"
   ]
  },
  {
   "cell_type": "code",
   "execution_count": null,
   "id": "b83bacc7",
   "metadata": {},
   "outputs": [],
   "source": [
    "#create result dataframe as a copy of test data in order to append the prediction to it \n",
    "result = test_data.reset_index()"
   ]
  },
  {
   "cell_type": "code",
   "execution_count": null,
   "id": "89ee03ea",
   "metadata": {},
   "outputs": [],
   "source": [
    "#add new column for the predicted values \n",
    "result['predicted'] = pd.DataFrame(list(np_result))"
   ]
  },
  {
   "cell_type": "code",
   "execution_count": null,
   "id": "8442de0d",
   "metadata": {},
   "outputs": [],
   "source": [
    "#create a summary dataset to visualize the results \n",
    "summary = result.groupby(['year','season','month','day'])['calls_per_hour','predicted'].sum().reset_index()"
   ]
  },
  {
   "cell_type": "code",
   "execution_count": null,
   "id": "cc55da5d",
   "metadata": {},
   "outputs": [],
   "source": [
    "#create a column for the weeks to help visualize the calls number per week per month \n",
    "summary['week'] = summary['day'].apply(lambda x: int(x/7)%4+1)"
   ]
  },
  {
   "cell_type": "code",
   "execution_count": null,
   "id": "2014fc31",
   "metadata": {},
   "outputs": [],
   "source": [
    "summary"
   ]
  },
  {
   "cell_type": "code",
   "execution_count": null,
   "id": "5b8f2e6b",
   "metadata": {},
   "outputs": [],
   "source": [
    "#select data to plot i.e. month, week, real vs predicated calls number\n",
    "data_plot =  summary.groupby(['month','week'])['calls_per_hour','predicted'].sum().reset_index()"
   ]
  },
  {
   "cell_type": "code",
   "execution_count": null,
   "id": "3537730b",
   "metadata": {},
   "outputs": [],
   "source": [
    "#combine the columns week and month to vizualize all the weeks and their respective months \n",
    "data_plot['m_w'] = data_plot['month']*10 + data_plot['week']"
   ]
  },
  {
   "cell_type": "code",
   "execution_count": null,
   "id": "501c6935",
   "metadata": {},
   "outputs": [],
   "source": [
    "#convert the month_week column to string in order to be fully display in the x axis \n",
    "data_plot['m_w']=data_plot['m_w'].astype(str)"
   ]
  },
  {
   "cell_type": "code",
   "execution_count": null,
   "id": "db83d1a6",
   "metadata": {},
   "outputs": [],
   "source": [
    "import pandas as pd\n",
    "import matplotlib.pyplot as plt\n",
    "import seaborn as sns\n",
    "\n",
    "p=sns.lineplot(x = 'm_w', y = 'calls_per_hour',data = data_plot)\n",
    "p=sns.lineplot(x = 'm_w', y = 'predicted',data = data_plot)\n",
    "\n",
    "p.set_xlabel(\"weeks of 2022 (13 => 3rd week of January)\")\n",
    "p.set_ylabel(\"calls volume\")\n",
    "p.set_title('Comparison between the real and predicted 911 calls volume per week for Seattle in 2022')\n",
    "plt.legend(labels=[\"calls_per_hour\",\"predicted\"])"
   ]
  }
 ],
 "metadata": {
  "kernelspec": {
   "display_name": "Python 3",
   "language": "python",
   "name": "python3"
  },
  "language_info": {
   "codemirror_mode": {
    "name": "ipython",
    "version": 3
   },
   "file_extension": ".py",
   "mimetype": "text/x-python",
   "name": "python",
   "nbconvert_exporter": "python",
   "pygments_lexer": "ipython3",
   "version": "3.7.9"
  }
 },
 "nbformat": 4,
 "nbformat_minor": 5
}
